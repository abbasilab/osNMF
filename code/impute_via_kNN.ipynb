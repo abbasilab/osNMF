{
 "cells": [
  {
   "cell_type": "markdown",
   "metadata": {},
   "source": [
    "# Impute missing values using kNN\n",
    "**For preprocessing – imputing missing values**. Output of this is fed into the NMF model. See **Fig. 1** in manuscript."
   ]
  },
  {
   "cell_type": "code",
   "execution_count": 1,
   "metadata": {},
   "outputs": [],
   "source": [
    "import numpy as np\n",
    "import pickle\n",
    "import sklearn\n",
    "#from nmf_with_missing_values import nmf_with_missing_values\n",
    "import matplotlib.pyplot as plt\n",
    "from sklearn.metrics.pairwise import euclidean_distances\n",
    "from sklearn.neighbors import KNeighborsRegressor as kNN\n",
    "from tqdm import tqdm\n",
    "%matplotlib inline"
   ]
  },
  {
   "cell_type": "markdown",
   "metadata": {},
   "source": [
    "## load the data"
   ]
  },
  {
   "cell_type": "code",
   "execution_count": 2,
   "metadata": {},
   "outputs": [],
   "source": [
    "#load_data\n",
    "tmp = np.load('../data/mouse_brain_ISH_float32.npz',allow_pickle=True)\n",
    "data = tmp['data']\n",
    "sections = tmp['sections'].tolist()\n",
    "original_shape = data.shape"
   ]
  },
  {
   "cell_type": "code",
   "execution_count": 3,
   "metadata": {},
   "outputs": [
    {
     "data": {
      "text/plain": [
       "(4345, 67, 41, 58)"
      ]
     },
     "execution_count": 3,
     "metadata": {},
     "output_type": "execute_result"
    }
   ],
   "source": [
    "data.shape"
   ]
  },
  {
   "cell_type": "markdown",
   "metadata": {},
   "source": [
    "### define kNN method to do imputation"
   ]
  },
  {
   "cell_type": "code",
   "execution_count": 4,
   "metadata": {},
   "outputs": [],
   "source": [
    "#define_model\n",
    "\n",
    "class kNN_imputation:\n",
    "    def __init__(self, \n",
    "                 n_neighbors = 1,\n",
    "                 weights = 'uniform',\n",
    "                 metric = 'euclidean'):\n",
    "        ''' Init function of kNN_imputation\n",
    "        \n",
    "        '''\n",
    "        self.model = kNN(n_neighbors=n_neighbors, metric=metric, weights = weights, n_jobs=4)\n",
    "    def fit_transform(self, X, template, inplace = False):\n",
    "        '''\n",
    "        Input:\n",
    "          X : 4d array, missing values are -1.\n",
    "          template : 0-1 3d array, 1 means the voxel is of interest. \n",
    "        '''\n",
    "        if inplace:\n",
    "            Y = X\n",
    "        else:\n",
    "            Y = np.copy(X)\n",
    "        for ind in tqdm(range(X.shape[0])):\n",
    "            self.fit_transform_one_img(Y[ind,:,:,:], template, inplace=True)\n",
    "        return Y\n",
    "         \n",
    "        \n",
    "    def fit_transform_one_img(self, X, template, inplace = False):\n",
    "        '''\n",
    "        Input:\n",
    "          X : 3d array, missing values are -1.\n",
    "          template : 0-1 3d array, 1 means the voxel is of interest. \n",
    "        '''\n",
    "        long_form = []\n",
    "        for x in range(X.shape[0]):\n",
    "            for y in range(X.shape[1]):\n",
    "                for z in range(X.shape[2]):\n",
    "                    if template[x, y, z] > 0:\n",
    "                        long_form.append([x, y, z, X[x, y, z]])\n",
    "        long_form = np.array(long_form)\n",
    "        train_ind = long_form[:,3] >= 0\n",
    "        test_ind = long_form[:,3] < 0\n",
    "        X_train = long_form[train_ind,:3].astype(int)\n",
    "        y_train = long_form[train_ind,3]\n",
    "        X_test = long_form[test_ind, :3].astype(int)\n",
    "        self.model.fit(X_train, y_train)\n",
    "        y_test = self.model.predict(X_test)\n",
    "        if inplace:\n",
    "            Y = X\n",
    "        else:\n",
    "            Y = np.copy(X)\n",
    "        for ind, (x, y, z) in enumerate(X_test):\n",
    "            Y[x, y, z] = y_test[ind]\n",
    "        return Y\n",
    "        "
   ]
  },
  {
   "cell_type": "code",
   "execution_count": 5,
   "metadata": {},
   "outputs": [],
   "source": [
    "#preprocess find the high missing rate region\n",
    "all_missed = (np.mean(data < 0, axis=0) >= .95)\n",
    "selected = np.logical_not(all_missed)[np.newaxis, :, :, :]"
   ]
  },
  {
   "cell_type": "code",
   "execution_count": null,
   "metadata": {},
   "outputs": [
    {
     "name": "stderr",
     "output_type": "stream",
     "text": [
      " 36%|█████████████▉                         | 1552/4345 [09:43<18:27,  2.52it/s]"
     ]
    }
   ],
   "source": [
    "# fit_model\n",
    "model = kNN_imputation(n_neighbors=6, weights='distance')\n",
    "imputed = model.fit_transform(data, selected[0], inplace=True)"
   ]
  },
  {
   "cell_type": "code",
   "execution_count": null,
   "metadata": {},
   "outputs": [],
   "source": [
    "# #store_data\n",
    "# np.savez(\"../data/imputed_data_kNN_neighbor_6_weights_distance_2022_08_22.npz\",imputed=imputed, selected=selected)"
   ]
  },
  {
   "cell_type": "code",
   "execution_count": null,
   "metadata": {},
   "outputs": [],
   "source": [
    "#visualize a specific gene in the gene_index\n",
    "i = 9\n",
    "plt.figure()\n",
    "plt.imshow(np.sum(np.maximum(data[i],0), 0))\n",
    "plt.colorbar()\n",
    "plt.figure()\n",
    "plt.imshow(np.sum(np.maximum(data[i],0), 1))\n",
    "plt.colorbar()\n",
    "plt.figure()\n",
    "plt.imshow(np.sum(np.maximum(data[i],0), 2))\n",
    "plt.colorbar()\n",
    "plt.show()"
   ]
  },
  {
   "cell_type": "markdown",
   "metadata": {},
   "source": [
    "## Holdout test for KNN"
   ]
  },
  {
   "cell_type": "code",
   "execution_count": null,
   "metadata": {},
   "outputs": [],
   "source": [
    "# number of holdouts per gene\n",
    "holdout_size = 1000\n",
    "\n",
    "#load_data\n",
    "tmp = np.load('../data/mouse_brain_ISH_float32.npz',allow_pickle=True)\n",
    "data = tmp['data']\n",
    "sections = tmp['sections'].tolist()\n",
    "original_shape = data.shape\n",
    "\n",
    "# create test set with holdouts\n",
    "data_holdout = data.copy()\n",
    "data_holdout.shape"
   ]
  },
  {
   "cell_type": "code",
   "execution_count": null,
   "metadata": {},
   "outputs": [],
   "source": [
    "# pick random holdout indices and set that index to be imputed (value of -1)\n",
    "\n",
    "test_index = [] # store each test index\n",
    "test_actual = np.zeros((data.shape[0]*holdout_size)) # store each actual value\n",
    "\n",
    "counter = 0\n",
    "\n",
    "# loop through each gene\n",
    "for g in range(data.shape[0]):\n",
    "\n",
    "    # loop through range of holdouts and set values to -1 (skip values that are already -1)\n",
    "    for a in range(holdout_size):\n",
    "        index_tmp = [g, np.random.choice(data.shape[1], 1)[0],\n",
    "                    np.random.choice(data.shape[2], 1)[0], np.random.choice(data.shape[3], 1)[0]]\n",
    "        while data_holdout[g,index_tmp[1],index_tmp[2],index_tmp[3]] == 0:\n",
    "            index_tmp = [g, np.random.choice(data.shape[1], 1)[0],\n",
    "                    np.random.choice(data.shape[2], 1)[0], np.random.choice(data.shape[3], 1)[0]]\n",
    "        while data_holdout[g,index_tmp[1],index_tmp[2],index_tmp[3]] == -1:\n",
    "            index_tmp = [g, np.random.choice(data.shape[1], 1)[0],\n",
    "                    np.random.choice(data.shape[2], 1)[0], np.random.choice(data.shape[3], 1)[0]]\n",
    "        \n",
    "        # append to list of test indices\n",
    "        test_index.append(index_tmp)\n",
    "        \n",
    "        # update holdout data\n",
    "        data_holdout[index_tmp[0], index_tmp[1], index_tmp[2], index_tmp[3]] = -1.\n",
    "        \n",
    "        # save actual value \n",
    "        test_actual[counter] = data[index_tmp[0], index_tmp[1], index_tmp[2], index_tmp[3]]\n",
    "        \n",
    "        counter  += 1"
   ]
  },
  {
   "cell_type": "code",
   "execution_count": null,
   "metadata": {},
   "outputs": [],
   "source": [
    "# run KNN imputation\n",
    "\n",
    "#preprocess find the high missing rate region\n",
    "all_missed = (np.mean(data < 0, axis=0) >= .95)\n",
    "selected = np.logical_not(all_missed)[np.newaxis, :, :, :]\n",
    "\n",
    "# fit_model\n",
    "model = kNN_imputation(n_neighbors=6, weights='distance')\n",
    "imputed_holdout = model.fit_transform(data_holdout, selected[0], inplace=True)"
   ]
  },
  {
   "cell_type": "code",
   "execution_count": null,
   "metadata": {},
   "outputs": [],
   "source": [
    "# identify predicted values from KNN imputation for holdout set\n",
    "\n",
    "test_predicted = np.zeros((len(test_index))) # store predicted values\n",
    "\n",
    "counter = 0\n",
    "\n",
    "# loop through each gene\n",
    "for g in range(data.shape[0]):\n",
    "\n",
    "    # loop through range of holdouts to get predicted values\n",
    "    for a in range(holdout_size):\n",
    "        \n",
    "        # store predicted values\n",
    "        test_predicted[counter] = imputed_holdout[test_index[counter][0],test_index[counter][1],\n",
    "                                                  test_index[counter][2],test_index[counter][3]]\n",
    "        counter += 1"
   ]
  },
  {
   "cell_type": "code",
   "execution_count": null,
   "metadata": {},
   "outputs": [],
   "source": [
    "# estimate mean error and standard deviation\n",
    "\n",
    "error = test_actual - test_predicted\n",
    "print(\"Mean error:\", round(np.mean(error),6))\n",
    "print(\"Standard deviation of error:\", round(np.std(error),6))"
   ]
  },
  {
   "cell_type": "code",
   "execution_count": null,
   "metadata": {},
   "outputs": [],
   "source": [
    "from scipy.stats.stats import spearmanr, pearsonr\n",
    "display(spearmanr(test_predicted,test_actual))\n",
    "display(pearsonr(test_predicted,test_actual))"
   ]
  },
  {
   "cell_type": "markdown",
   "metadata": {},
   "source": [
    "## Accuracy improvement from KNN"
   ]
  },
  {
   "cell_type": "code",
   "execution_count": null,
   "metadata": {},
   "outputs": [],
   "source": [
    "# import libraries\n",
    "import matplotlib.pyplot as plt\n",
    "import networkx as nx\n",
    "import numpy as np\n",
    "import os\n",
    "import pandas as pd\n",
    "from pca_with_missing_values import pca_with_missing_values\n",
    "import pickle\n",
    "from scipy import ndimage # for calculating Center-of-mass\n",
    "from scipy.optimize import linear_sum_assignment\n",
    "import sklearn.preprocessing\n",
    "from staNMF_ import staNMF\n",
    "from staNMF.nmf_models import sklearn_nmf"
   ]
  },
  {
   "cell_type": "code",
   "execution_count": null,
   "metadata": {},
   "outputs": [],
   "source": [
    "# load_data\n",
    "\n",
    "# imputed\n",
    "tmp = np.load('../data/imputed_data_kNN_neighbor_6_weights_distance.npz')\n",
    "data = tmp['imputed']\n",
    "selected = tmp['selected']\n",
    "original_shape = data.shape\n",
    "\n",
    "#not imputed\n",
    "tmp = np.load('../data/mouse_brain_ISH_float32.npz',allow_pickle=True)\n",
    "data = tmp['data']"
   ]
  },
  {
   "cell_type": "code",
   "execution_count": null,
   "metadata": {},
   "outputs": [],
   "source": [
    "#load reference atlas\n",
    "areas_atlas = np.load('../data/mouse_coarse_structure_atlas.npy')\n",
    "mouse_coarse_df = pd.read_pickle('../data/mouse_coarse_df')"
   ]
  },
  {
   "cell_type": "code",
   "execution_count": null,
   "metadata": {},
   "outputs": [],
   "source": [
    "# preprocess compute the support\n",
    "support = np.sum(areas_atlas, 0) > 0"
   ]
  },
  {
   "cell_type": "code",
   "execution_count": null,
   "metadata": {},
   "outputs": [],
   "source": [
    "# preprocess : get the data within the reference atlas\n",
    "filtered_data = data[:,:-1,:-1,:-1][:, support]\n",
    "filtered_data.shape"
   ]
  },
  {
   "cell_type": "code",
   "execution_count": null,
   "metadata": {},
   "outputs": [],
   "source": [
    "###################################\n",
    "# Create model with 11 PPs, coeffs\n",
    "###################################\n",
    "\n",
    "from sklearn_nmf import sklearn_nmf\n",
    "\n",
    "nmf = sklearn_nmf(n_components=11, l1_ratio=1, alpha = 0, random_state=1)\n",
    "nmf.fit(np.maximum(filtered_data,0)) # fit model\n",
    "\n",
    "# Create PPs and coeffs\n",
    "PPs = nmf.components_\n",
    "coeffs = nmf.transform(np.maximum(filtered_data,0))\n",
    "print(PPs.shape, coeffs.shape)"
   ]
  },
  {
   "cell_type": "code",
   "execution_count": null,
   "metadata": {},
   "outputs": [],
   "source": [
    "# function create gene-by-gene reconstruction accuracy\n",
    "\n",
    "def geneReconstructionAcccuracy(_PPs, _coeffs):\n",
    "\n",
    "    gene_rec_accuracy_lst = []\n",
    "\n",
    "    # loop through each gene\n",
    "    for i in range(len(_coeffs)):\n",
    "\n",
    "        # reconstruct gene\n",
    "        gene_rec = np.matmul(_coeffs[i], _PPs)\n",
    "\n",
    "        # get actual gene from expression data\n",
    "        gene_actual = np.maximum(filtered_data[i],0)\n",
    "\n",
    "        # estimate Pearson corr coeff between gene reconstruction and original data\n",
    "        corr = np.corrcoef(gene_rec,gene_actual)[0][1]\n",
    "\n",
    "        # set to 0 if NaN\n",
    "        if np.isnan(corr):\n",
    "            corr = 0\n",
    "        \n",
    "        # add calculated correlation to list\n",
    "        gene_rec_accuracy_lst.append(corr)        \n",
    "    \n",
    "    return gene_rec_accuracy_lst"
   ]
  },
  {
   "cell_type": "code",
   "execution_count": null,
   "metadata": {},
   "outputs": [],
   "source": [
    "# Run reconstruction function for for DecGene\n",
    "gene_rec_accuracy_DG = geneReconstructionAcccuracy(_PPs=PPs, _coeffs=coeffs)"
   ]
  },
  {
   "cell_type": "code",
   "execution_count": null,
   "metadata": {},
   "outputs": [],
   "source": [
    "# Comparing mean accuracy and standard deviation\n",
    "print(\"DecGene accuracy & std:\",\n",
    "      round(np.mean(gene_rec_accuracy_DG),3),\n",
    "      \", std:\",\n",
    "      round(np.std(gene_rec_accuracy_DG),3))"
   ]
  }
 ],
 "metadata": {
  "kernelspec": {
   "display_name": "Python 3 (ipykernel)",
   "language": "python",
   "name": "python3"
  },
  "language_info": {
   "codemirror_mode": {
    "name": "ipython",
    "version": 3
   },
   "file_extension": ".py",
   "mimetype": "text/x-python",
   "name": "python",
   "nbconvert_exporter": "python",
   "pygments_lexer": "ipython3",
   "version": "3.9.12"
  }
 },
 "nbformat": 4,
 "nbformat_minor": 4
}
